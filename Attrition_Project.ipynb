{
 "cells": [
  {
   "cell_type": "code",
   "execution_count": 105,
   "id": "7ef53617",
   "metadata": {},
   "outputs": [],
   "source": [
    "import pandas as pd\n",
    "import numpy as np\n",
    "import seaborn as sns\n",
    "import matplotlib.pyplot as plt\n",
    "%matplotlib inline\n",
    "\n",
    "import warnings\n",
    "warnings.filterwarnings('ignore')"
   ]
  },
  {
   "cell_type": "code",
   "execution_count": 106,
   "id": "4d22f6db",
   "metadata": {},
   "outputs": [],
   "source": [
    "data = pd.read_csv(\"Train_Dataset.csv\")"
   ]
  },
  {
   "cell_type": "code",
   "execution_count": 107,
   "id": "94350349",
   "metadata": {},
   "outputs": [
    {
     "data": {
      "text/html": [
       "<div>\n",
       "<style scoped>\n",
       "    .dataframe tbody tr th:only-of-type {\n",
       "        vertical-align: middle;\n",
       "    }\n",
       "\n",
       "    .dataframe tbody tr th {\n",
       "        vertical-align: top;\n",
       "    }\n",
       "\n",
       "    .dataframe thead th {\n",
       "        text-align: right;\n",
       "    }\n",
       "</style>\n",
       "<table border=\"1\" class=\"dataframe\">\n",
       "  <thead>\n",
       "    <tr style=\"text-align: right;\">\n",
       "      <th></th>\n",
       "      <th>EmployeeID</th>\n",
       "      <th>Attrition</th>\n",
       "      <th>Age</th>\n",
       "      <th>TravelProfile</th>\n",
       "      <th>Department</th>\n",
       "      <th>HomeToWork</th>\n",
       "      <th>EducationField</th>\n",
       "      <th>Gender</th>\n",
       "      <th>HourlnWeek</th>\n",
       "      <th>Involvement</th>\n",
       "      <th>...</th>\n",
       "      <th>JobSatisfaction</th>\n",
       "      <th>ESOPs</th>\n",
       "      <th>NumCompaniesWorked</th>\n",
       "      <th>OverTime</th>\n",
       "      <th>SalaryHikelastYear</th>\n",
       "      <th>WorkExperience</th>\n",
       "      <th>LastPromotion</th>\n",
       "      <th>CurrentProfile</th>\n",
       "      <th>MaritalStatus</th>\n",
       "      <th>MonthlyIncome</th>\n",
       "    </tr>\n",
       "  </thead>\n",
       "  <tbody>\n",
       "    <tr>\n",
       "      <th>0</th>\n",
       "      <td>5110001.0</td>\n",
       "      <td>0.0</td>\n",
       "      <td>35.0</td>\n",
       "      <td>Rarely</td>\n",
       "      <td>Analytics</td>\n",
       "      <td>5.0</td>\n",
       "      <td>CA</td>\n",
       "      <td>Male</td>\n",
       "      <td>69.0</td>\n",
       "      <td>1.0</td>\n",
       "      <td>...</td>\n",
       "      <td>1.0</td>\n",
       "      <td>1.0</td>\n",
       "      <td>1.0</td>\n",
       "      <td>1.0</td>\n",
       "      <td>20.0</td>\n",
       "      <td>7.0</td>\n",
       "      <td>2.0</td>\n",
       "      <td>NaN</td>\n",
       "      <td>M</td>\n",
       "      <td>18932.0</td>\n",
       "    </tr>\n",
       "    <tr>\n",
       "      <th>1</th>\n",
       "      <td>5110002.0</td>\n",
       "      <td>1.0</td>\n",
       "      <td>32.0</td>\n",
       "      <td>Yes</td>\n",
       "      <td>Sales</td>\n",
       "      <td>5.0</td>\n",
       "      <td>Statistics</td>\n",
       "      <td>Female</td>\n",
       "      <td>62.0</td>\n",
       "      <td>4.0</td>\n",
       "      <td>...</td>\n",
       "      <td>2.0</td>\n",
       "      <td>0.0</td>\n",
       "      <td>8.0</td>\n",
       "      <td>0.0</td>\n",
       "      <td>20.0</td>\n",
       "      <td>4.0</td>\n",
       "      <td>1.0</td>\n",
       "      <td>NaN</td>\n",
       "      <td>Single</td>\n",
       "      <td>18785.0</td>\n",
       "    </tr>\n",
       "    <tr>\n",
       "      <th>2</th>\n",
       "      <td>5110003.0</td>\n",
       "      <td>0.0</td>\n",
       "      <td>31.0</td>\n",
       "      <td>Rarely</td>\n",
       "      <td>Analytics</td>\n",
       "      <td>5.0</td>\n",
       "      <td>Statistics</td>\n",
       "      <td>F</td>\n",
       "      <td>45.0</td>\n",
       "      <td>5.0</td>\n",
       "      <td>...</td>\n",
       "      <td>2.0</td>\n",
       "      <td>1.0</td>\n",
       "      <td>3.0</td>\n",
       "      <td>0.0</td>\n",
       "      <td>26.0</td>\n",
       "      <td>12.0</td>\n",
       "      <td>1.0</td>\n",
       "      <td>3.0</td>\n",
       "      <td>Single</td>\n",
       "      <td>22091.0</td>\n",
       "    </tr>\n",
       "    <tr>\n",
       "      <th>3</th>\n",
       "      <td>5110004.0</td>\n",
       "      <td>0.0</td>\n",
       "      <td>34.0</td>\n",
       "      <td>Yes</td>\n",
       "      <td>Sales</td>\n",
       "      <td>10.0</td>\n",
       "      <td>Statistics</td>\n",
       "      <td>Female</td>\n",
       "      <td>32.0</td>\n",
       "      <td>3.0</td>\n",
       "      <td>...</td>\n",
       "      <td>4.0</td>\n",
       "      <td>1.0</td>\n",
       "      <td>1.0</td>\n",
       "      <td>0.0</td>\n",
       "      <td>23.0</td>\n",
       "      <td>5.0</td>\n",
       "      <td>1.0</td>\n",
       "      <td>3.0</td>\n",
       "      <td>Divorsed</td>\n",
       "      <td>20302.0</td>\n",
       "    </tr>\n",
       "    <tr>\n",
       "      <th>4</th>\n",
       "      <td>5110005.0</td>\n",
       "      <td>0.0</td>\n",
       "      <td>37.0</td>\n",
       "      <td>No</td>\n",
       "      <td>Analytics</td>\n",
       "      <td>27.0</td>\n",
       "      <td>Statistics</td>\n",
       "      <td>Female</td>\n",
       "      <td>49.0</td>\n",
       "      <td>3.0</td>\n",
       "      <td>...</td>\n",
       "      <td>4.0</td>\n",
       "      <td>1.0</td>\n",
       "      <td>8.0</td>\n",
       "      <td>0.0</td>\n",
       "      <td>21.0</td>\n",
       "      <td>12.0</td>\n",
       "      <td>1.0</td>\n",
       "      <td>9.0</td>\n",
       "      <td>Divorsed</td>\n",
       "      <td>21674.0</td>\n",
       "    </tr>\n",
       "  </tbody>\n",
       "</table>\n",
       "<p>5 rows × 22 columns</p>\n",
       "</div>"
      ],
      "text/plain": [
       "   EmployeeID  Attrition   Age TravelProfile Department  HomeToWork  \\\n",
       "0   5110001.0        0.0  35.0        Rarely  Analytics         5.0   \n",
       "1   5110002.0        1.0  32.0           Yes      Sales         5.0   \n",
       "2   5110003.0        0.0  31.0        Rarely  Analytics         5.0   \n",
       "3   5110004.0        0.0  34.0           Yes      Sales        10.0   \n",
       "4   5110005.0        0.0  37.0            No  Analytics        27.0   \n",
       "\n",
       "  EducationField  Gender  HourlnWeek  Involvement  ...  JobSatisfaction ESOPs  \\\n",
       "0             CA    Male        69.0          1.0  ...              1.0   1.0   \n",
       "1     Statistics  Female        62.0          4.0  ...              2.0   0.0   \n",
       "2     Statistics       F        45.0          5.0  ...              2.0   1.0   \n",
       "3     Statistics  Female        32.0          3.0  ...              4.0   1.0   \n",
       "4     Statistics  Female        49.0          3.0  ...              4.0   1.0   \n",
       "\n",
       "   NumCompaniesWorked  OverTime  SalaryHikelastYear  WorkExperience  \\\n",
       "0                 1.0       1.0                20.0             7.0   \n",
       "1                 8.0       0.0                20.0             4.0   \n",
       "2                 3.0       0.0                26.0            12.0   \n",
       "3                 1.0       0.0                23.0             5.0   \n",
       "4                 8.0       0.0                21.0            12.0   \n",
       "\n",
       "   LastPromotion  CurrentProfile  MaritalStatus  MonthlyIncome  \n",
       "0            2.0             NaN              M        18932.0  \n",
       "1            1.0             NaN         Single        18785.0  \n",
       "2            1.0             3.0         Single        22091.0  \n",
       "3            1.0             3.0       Divorsed        20302.0  \n",
       "4            1.0             9.0       Divorsed        21674.0  \n",
       "\n",
       "[5 rows x 22 columns]"
      ]
     },
     "execution_count": 107,
     "metadata": {},
     "output_type": "execute_result"
    }
   ],
   "source": [
    "data.head()"
   ]
  },
  {
   "cell_type": "code",
   "execution_count": 108,
   "id": "2eab965f",
   "metadata": {},
   "outputs": [
    {
     "data": {
      "text/plain": [
       "(7810, 22)"
      ]
     },
     "execution_count": 108,
     "metadata": {},
     "output_type": "execute_result"
    }
   ],
   "source": [
    "data.shape"
   ]
  },
  {
   "cell_type": "code",
   "execution_count": 109,
   "id": "8459962b",
   "metadata": {},
   "outputs": [],
   "source": [
    "data.drop('EmployeeID',axis=1,inplace=True)"
   ]
  },
  {
   "cell_type": "code",
   "execution_count": 110,
   "id": "3ed46f42",
   "metadata": {},
   "outputs": [
    {
     "name": "stdout",
     "output_type": "stream",
     "text": [
      "<class 'pandas.core.frame.DataFrame'>\n",
      "RangeIndex: 7810 entries, 0 to 7809\n",
      "Data columns (total 21 columns):\n",
      " #   Column              Non-Null Count  Dtype  \n",
      "---  ------              --------------  -----  \n",
      " 0   Attrition           5180 non-null   float64\n",
      " 1   Age                 4864 non-null   float64\n",
      " 2   TravelProfile       5180 non-null   object \n",
      " 3   Department          5056 non-null   object \n",
      " 4   HomeToWork          4925 non-null   float64\n",
      " 5   EducationField      5180 non-null   object \n",
      " 6   Gender              5134 non-null   object \n",
      " 7   HourlnWeek          4893 non-null   float64\n",
      " 8   Involvement         5180 non-null   float64\n",
      " 9   WorkLifeBalance     5180 non-null   float64\n",
      " 10  Designation         5142 non-null   object \n",
      " 11  JobSatisfaction     5180 non-null   float64\n",
      " 12  ESOPs               5180 non-null   float64\n",
      " 13  NumCompaniesWorked  5180 non-null   float64\n",
      " 14  OverTime            5180 non-null   float64\n",
      " 15  SalaryHikelastYear  5011 non-null   float64\n",
      " 16  WorkExperience      4993 non-null   float64\n",
      " 17  LastPromotion       5110 non-null   float64\n",
      " 18  CurrentProfile      4869 non-null   float64\n",
      " 19  MaritalStatus       5180 non-null   object \n",
      " 20  MonthlyIncome       5087 non-null   float64\n",
      "dtypes: float64(15), object(6)\n",
      "memory usage: 1.3+ MB\n"
     ]
    }
   ],
   "source": [
    "data.info()"
   ]
  },
  {
   "cell_type": "code",
   "execution_count": 111,
   "id": "1e368be5",
   "metadata": {},
   "outputs": [
    {
     "data": {
      "text/plain": [
       "Attrition             2630\n",
       "Age                   2946\n",
       "TravelProfile         2630\n",
       "Department            2754\n",
       "HomeToWork            2885\n",
       "EducationField        2630\n",
       "Gender                2676\n",
       "HourlnWeek            2917\n",
       "Involvement           2630\n",
       "WorkLifeBalance       2630\n",
       "Designation           2668\n",
       "JobSatisfaction       2630\n",
       "ESOPs                 2630\n",
       "NumCompaniesWorked    2630\n",
       "OverTime              2630\n",
       "SalaryHikelastYear    2799\n",
       "WorkExperience        2817\n",
       "LastPromotion         2700\n",
       "CurrentProfile        2941\n",
       "MaritalStatus         2630\n",
       "MonthlyIncome         2723\n",
       "dtype: int64"
      ]
     },
     "execution_count": 111,
     "metadata": {},
     "output_type": "execute_result"
    }
   ],
   "source": [
    "data.isnull().sum()"
   ]
  },
  {
   "cell_type": "code",
   "execution_count": 112,
   "id": "1e2f5c8c",
   "metadata": {},
   "outputs": [
    {
     "data": {
      "text/plain": [
       "Attrition             33.674776\n",
       "Age                   37.720871\n",
       "TravelProfile         33.674776\n",
       "Department            35.262484\n",
       "HomeToWork            36.939821\n",
       "EducationField        33.674776\n",
       "Gender                34.263764\n",
       "HourlnWeek            37.349552\n",
       "Involvement           33.674776\n",
       "WorkLifeBalance       33.674776\n",
       "Designation           34.161332\n",
       "JobSatisfaction       33.674776\n",
       "ESOPs                 33.674776\n",
       "NumCompaniesWorked    33.674776\n",
       "OverTime              33.674776\n",
       "SalaryHikelastYear    35.838668\n",
       "WorkExperience        36.069142\n",
       "LastPromotion         34.571063\n",
       "CurrentProfile        37.656850\n",
       "MaritalStatus         33.674776\n",
       "MonthlyIncome         34.865557\n",
       "dtype: float64"
      ]
     },
     "execution_count": 112,
     "metadata": {},
     "output_type": "execute_result"
    }
   ],
   "source": [
    "data.isnull().sum()/len(data)*100"
   ]
  },
  {
   "cell_type": "markdown",
   "id": "4c134258",
   "metadata": {},
   "source": [
    "## Filling Null Values"
   ]
  },
  {
   "cell_type": "code",
   "execution_count": 113,
   "id": "c04b3afd",
   "metadata": {},
   "outputs": [
    {
     "data": {
      "text/plain": [
       "<Axes: xlabel='Attrition'>"
      ]
     },
     "execution_count": 113,
     "metadata": {},
     "output_type": "execute_result"
    },
    {
     "data": {
      "image/png": "[encoded data removed]",
      "text/plain": [
       "<Figure size 640x480 with 1 Axes>"
      ]
     },
     "metadata": {},
     "output_type": "display_data"
    }
   ],
   "source": [
    "sns.boxplot(x='Attrition',data=data)"
   ]
  },
  {
   "cell_type": "code",
   "execution_count": 114,
   "id": "1cb4db0f",
   "metadata": {},
   "outputs": [
    {
     "name": "stdout",
     "output_type": "stream",
     "text": [
      "0.27895752895752896\n"
     ]
    }
   ],
   "source": [
    "mean = data.Attrition.mean()\n",
    "print(mean)"
   ]
  },
  {
   "cell_type": "code",
   "execution_count": 115,
   "id": "228ea3fa",
   "metadata": {},
   "outputs": [],
   "source": [
    "data['Attrition']=data['Attrition'].fillna(mean)"
   ]
  },
  {
   "cell_type": "code",
   "execution_count": 116,
   "id": "5f733c2a",
   "metadata": {},
   "outputs": [
    {
     "data": {
      "text/plain": [
       "<Axes: xlabel='Age'>"
      ]
     },
     "execution_count": 116,
     "metadata": {},
     "output_type": "execute_result"
    },
    {
     "data": {
      "image/png": "[encoded data removed]",
      "text/plain": [
       "<Figure size 640x480 with 1 Axes>"
      ]
     },
     "metadata": {},
     "output_type": "display_data"
    }
   ],
   "source": [
    "sns.boxplot(x='Age',data=data)"
   ]
  },
  {
   "cell_type": "code",
   "execution_count": 117,
   "id": "94d4d1a2",
   "metadata": {},
   "outputs": [
    {
     "name": "stdout",
     "output_type": "stream",
     "text": [
      "37.108552631578945\n"
     ]
    }
   ],
   "source": [
    "mean = data.Age.mean()\n",
    "print(mean)"
   ]
  },
  {
   "cell_type": "code",
   "execution_count": 118,
   "id": "d486c97e",
   "metadata": {},
   "outputs": [],
   "source": [
    "data['Age']=data['Age'].fillna(mean)"
   ]
  },
  {
   "cell_type": "code",
   "execution_count": 119,
   "id": "c54c7696",
   "metadata": {},
   "outputs": [
    {
     "name": "stdout",
     "output_type": "stream",
     "text": [
      "0    Rarely\n",
      "Name: TravelProfile, dtype: object\n"
     ]
    }
   ],
   "source": [
    "mode = data.TravelProfile .mode()\n",
    "print(mode)"
   ]
  },
  {
   "cell_type": "code",
   "execution_count": 120,
   "id": "aa3e9875",
   "metadata": {},
   "outputs": [],
   "source": [
    "data['TravelProfile']=data['TravelProfile'].fillna('Rarely')"
   ]
  },
  {
   "cell_type": "code",
   "execution_count": 121,
   "id": "08a2129a",
   "metadata": {},
   "outputs": [
    {
     "name": "stdout",
     "output_type": "stream",
     "text": [
      "0    Rarely\n",
      "Name: TravelProfile, dtype: object\n"
     ]
    }
   ],
   "source": [
    "data.Department.mode()\n",
    "print(mode)"
   ]
  },
  {
   "cell_type": "code",
   "execution_count": 122,
   "id": "8dc798d7",
   "metadata": {},
   "outputs": [],
   "source": [
    "data['Department']=data['Department'].fillna('Analytics')"
   ]
  },
  {
   "cell_type": "code",
   "execution_count": 123,
   "id": "d2023c2b",
   "metadata": {},
   "outputs": [
    {
     "data": {
      "text/plain": [
       "<Axes: xlabel='HomeToWork'>"
      ]
     },
     "execution_count": 123,
     "metadata": {},
     "output_type": "execute_result"
    },
    {
     "data": {
      "image/png": "[encoded data removed]",
      "text/plain": [
       "<Figure size 640x480 with 1 Axes>"
      ]
     },
     "metadata": {},
     "output_type": "display_data"
    }
   ],
   "source": [
    "sns.boxplot(x='HomeToWork',data=data)     "
   ]
  },
  {
   "cell_type": "code",
   "execution_count": 124,
   "id": "f0c1e698",
   "metadata": {},
   "outputs": [
    {
     "name": "stdout",
     "output_type": "stream",
     "text": [
      "9.0\n"
     ]
    }
   ],
   "source": [
    "median=data.HomeToWork.median()\n",
    "print(median)"
   ]
  },
  {
   "cell_type": "code",
   "execution_count": 125,
   "id": "fb1a47ba",
   "metadata": {},
   "outputs": [],
   "source": [
    "data['HomeToWork']=data['HomeToWork'].fillna(median)"
   ]
  },
  {
   "cell_type": "code",
   "execution_count": 126,
   "id": "cb40d70a",
   "metadata": {},
   "outputs": [
    {
     "name": "stdout",
     "output_type": "stream",
     "text": [
      "0    Statistics\n",
      "Name: EducationField, dtype: object\n",
      "0    Male\n",
      "Name: Gender, dtype: object\n",
      "0    Executive\n",
      "Name: Designation, dtype: object\n",
      "0    Single\n",
      "Name: MaritalStatus, dtype: object\n"
     ]
    }
   ],
   "source": [
    "a=data.EducationField.mode()\n",
    "print(a)\n",
    "\n",
    "b=data.Gender.mode()\n",
    "print(b)\n",
    "\n",
    "c=data.Designation.mode()\n",
    "print(c)\n",
    "\n",
    "d=data.MaritalStatus.mode()\n",
    "print(d)"
   ]
  },
  {
   "cell_type": "code",
   "execution_count": 127,
   "id": "4b816c8d",
   "metadata": {},
   "outputs": [],
   "source": [
    "data['EducationField']=data['EducationField'].fillna('Statistics')\n",
    "data['Gender']=data['Gender'].fillna( 'Male')\n",
    "data['Designation']=data['Designation'].fillna('c')\n",
    "data['MaritalStatus']=data['MaritalStatus'].fillna('d')"
   ]
  },
  {
   "cell_type": "code",
   "execution_count": 128,
   "id": "0a78ff19",
   "metadata": {},
   "outputs": [
    {
     "data": {
      "text/plain": [
       "<Axes: xlabel='HourlnWeek'>"
      ]
     },
     "execution_count": 128,
     "metadata": {},
     "output_type": "execute_result"
    },
    {
     "data": {
      "image/png": "[encoded data removed]",
      "text/plain": [
       "<Figure size 640x480 with 1 Axes>"
      ]
     },
     "metadata": {},
     "output_type": "display_data"
    }
   ],
   "source": [
    "sns.boxplot(x='HourlnWeek',data=data)  \n",
    "\n"
   ]
  },
  {
   "cell_type": "code",
   "execution_count": 129,
   "id": "759fd579",
   "metadata": {},
   "outputs": [
    {
     "name": "stdout",
     "output_type": "stream",
     "text": [
      "59.0\n"
     ]
    }
   ],
   "source": [
    "median = data.HourlnWeek.median()\n",
    "print(median)"
   ]
  },
  {
   "cell_type": "code",
   "execution_count": 130,
   "id": "fd63a296",
   "metadata": {},
   "outputs": [],
   "source": [
    "data['HourlnWeek']=data['HourlnWeek'].fillna(median)"
   ]
  },
  {
   "cell_type": "code",
   "execution_count": 131,
   "id": "58764220",
   "metadata": {},
   "outputs": [
    {
     "data": {
      "text/plain": [
       "<Axes: xlabel='Involvement'>"
      ]
     },
     "execution_count": 131,
     "metadata": {},
     "output_type": "execute_result"
    },
    {
     "data": {
      "image/png": "[encoded data removed]",
      "text/plain": [
       "<Figure size 640x480 with 1 Axes>"
      ]
     },
     "metadata": {},
     "output_type": "display_data"
    }
   ],
   "source": [
    "sns.boxplot(x='Involvement',data=data)  "
   ]
  },
  {
   "cell_type": "code",
   "execution_count": 132,
   "id": "bd4ff2df",
   "metadata": {},
   "outputs": [
    {
     "name": "stdout",
     "output_type": "stream",
     "text": [
      "3.0\n"
     ]
    }
   ],
   "source": [
    "median = data.Involvement.median()\n",
    "print(median)"
   ]
  },
  {
   "cell_type": "code",
   "execution_count": 133,
   "id": "142328dd",
   "metadata": {},
   "outputs": [],
   "source": [
    "data['Involvement']=data['Involvement'].fillna(median)"
   ]
  },
  {
   "cell_type": "code",
   "execution_count": 134,
   "id": "13e48f3f",
   "metadata": {},
   "outputs": [
    {
     "data": {
      "text/plain": [
       "<Axes: xlabel='WorkLifeBalance'>"
      ]
     },
     "execution_count": 134,
     "metadata": {},
     "output_type": "execute_result"
    },
    {
     "data": {
      "image/png": "[encoded data removed]",
      "text/plain": [
       "<Figure size 640x480 with 1 Axes>"
      ]
     },
     "metadata": {},
     "output_type": "display_data"
    }
   ],
   "source": [
    "sns.boxplot(x='WorkLifeBalance',data=data)"
   ]
  },
  {
   "cell_type": "code",
   "execution_count": 135,
   "id": "2d0532aa",
   "metadata": {},
   "outputs": [
    {
     "name": "stdout",
     "output_type": "stream",
     "text": [
      "3.012741312741313\n"
     ]
    }
   ],
   "source": [
    "mean=data.WorkLifeBalance.mean()\n",
    "print(mean)"
   ]
  },
  {
   "cell_type": "code",
   "execution_count": 136,
   "id": "37b26c10",
   "metadata": {},
   "outputs": [],
   "source": [
    "data['WorkLifeBalance']=data['WorkLifeBalance'].fillna(mean)"
   ]
  },
  {
   "cell_type": "code",
   "execution_count": 137,
   "id": "d406465e",
   "metadata": {},
   "outputs": [
    {
     "data": {
      "text/plain": [
       "<Axes: xlabel='JobSatisfaction'>"
      ]
     },
     "execution_count": 137,
     "metadata": {},
     "output_type": "execute_result"
    },
    {
     "data": {
      "image/png": "[encoded data removed]",
      "text/plain": [
       "<Figure size 640x480 with 1 Axes>"
      ]
     },
     "metadata": {},
     "output_type": "display_data"
    }
   ],
   "source": [
    "sns.boxplot(x='JobSatisfaction',data=data)"
   ]
  },
  {
   "cell_type": "code",
   "execution_count": 138,
   "id": "45b3612b",
   "metadata": {},
   "outputs": [
    {
     "name": "stdout",
     "output_type": "stream",
     "text": [
      "3.1444015444015445\n"
     ]
    }
   ],
   "source": [
    "mean=data.JobSatisfaction.mean()\n",
    "print(mean)"
   ]
  },
  {
   "cell_type": "code",
   "execution_count": 139,
   "id": "8013b0fd",
   "metadata": {},
   "outputs": [],
   "source": [
    "data['JobSatisfaction']=data['JobSatisfaction'].fillna(mean)"
   ]
  },
  {
   "cell_type": "code",
   "execution_count": 140,
   "id": "e7e9a2e9",
   "metadata": {},
   "outputs": [
    {
     "data": {
      "text/plain": [
       "<Axes: xlabel='ESOPs'>"
      ]
     },
     "execution_count": 140,
     "metadata": {},
     "output_type": "execute_result"
    },
    {
     "data": {
      "image/png": "[encoded data removed]",
      "text/plain": [
       "<Figure size 640x480 with 1 Axes>"
      ]
     },
     "metadata": {},
     "output_type": "display_data"
    }
   ],
   "source": [
    "sns.boxplot(x='ESOPs',data=data)"
   ]
  },
  {
   "cell_type": "code",
   "execution_count": 141,
   "id": "6203a693",
   "metadata": {},
   "outputs": [
    {
     "name": "stdout",
     "output_type": "stream",
     "text": [
      "0.4905405405405405\n"
     ]
    }
   ],
   "source": [
    "mean=data.ESOPs.mean()\n",
    "print(mean)"
   ]
  },
  {
   "cell_type": "code",
   "execution_count": 142,
   "id": "a0431006",
   "metadata": {},
   "outputs": [],
   "source": [
    "data['ESOPs']=data['ESOPs'].fillna(mean)"
   ]
  },
  {
   "cell_type": "code",
   "execution_count": 143,
   "id": "534d5042",
   "metadata": {},
   "outputs": [
    {
     "data": {
      "text/plain": [
       "<Axes: xlabel='NumCompaniesWorked'>"
      ]
     },
     "execution_count": 143,
     "metadata": {},
     "output_type": "execute_result"
    },
    {
     "data": {
      "image/png": "[encoded data removed]",
      "text/plain": [
       "<Figure size 640x480 with 1 Axes>"
      ]
     },
     "metadata": {},
     "output_type": "display_data"
    }
   ],
   "source": [
    "sns.boxplot(x='NumCompaniesWorked',data=data)\n"
   ]
  },
  {
   "cell_type": "code",
   "execution_count": 144,
   "id": "5db417f8",
   "metadata": {},
   "outputs": [
    {
     "name": "stdout",
     "output_type": "stream",
     "text": [
      "2.0\n"
     ]
    }
   ],
   "source": [
    "median=data.NumCompaniesWorked.median()\n",
    "print(median)"
   ]
  },
  {
   "cell_type": "code",
   "execution_count": 145,
   "id": "691d01ab",
   "metadata": {},
   "outputs": [],
   "source": [
    "data['NumCompaniesWorked']=data['NumCompaniesWorked'].fillna(median)"
   ]
  },
  {
   "cell_type": "code",
   "execution_count": 146,
   "id": "c85c9db3",
   "metadata": {},
   "outputs": [
    {
     "data": {
      "text/plain": [
       "<Axes: xlabel='OverTime'>"
      ]
     },
     "execution_count": 146,
     "metadata": {},
     "output_type": "execute_result"
    },
    {
     "data": {
      "image/png": "[encoded data removed]",
      "text/plain": [
       "<Figure size 640x480 with 1 Axes>"
      ]
     },
     "metadata": {},
     "output_type": "display_data"
    }
   ],
   "source": [
    "sns.boxplot(x='OverTime',data=data)"
   ]
  },
  {
   "cell_type": "code",
   "execution_count": 147,
   "id": "6f6b73f4",
   "metadata": {},
   "outputs": [
    {
     "name": "stdout",
     "output_type": "stream",
     "text": [
      "0.31351351351351353\n"
     ]
    }
   ],
   "source": [
    "mean = data.OverTime.mean()\n",
    "print(mean)"
   ]
  },
  {
   "cell_type": "code",
   "execution_count": 148,
   "id": "5b368440",
   "metadata": {},
   "outputs": [],
   "source": [
    "data['OverTime']=data['OverTime'].fillna(mean)"
   ]
  },
  {
   "cell_type": "code",
   "execution_count": 149,
   "id": "6951e6da",
   "metadata": {},
   "outputs": [
    {
     "data": {
      "text/plain": [
       "<Axes: xlabel='SalaryHikelastYear'>"
      ]
     },
     "execution_count": 149,
     "metadata": {},
     "output_type": "execute_result"
    },
    {
     "data": {
      "image/png": "[encoded data removed]",
      "text/plain": [
       "<Figure size 640x480 with 1 Axes>"
      ]
     },
     "metadata": {},
     "output_type": "display_data"
    }
   ],
   "source": [
    "sns.boxplot(x='SalaryHikelastYear',data=data)\n"
   ]
  },
  {
   "cell_type": "code",
   "execution_count": 150,
   "id": "108b4ecb",
   "metadata": {},
   "outputs": [
    {
     "name": "stdout",
     "output_type": "stream",
     "text": [
      "20.0\n"
     ]
    }
   ],
   "source": [
    "median=data.SalaryHikelastYear.median()\n",
    "print(median)"
   ]
  },
  {
   "cell_type": "code",
   "execution_count": 151,
   "id": "f9665272",
   "metadata": {},
   "outputs": [],
   "source": [
    "data['SalaryHikelastYear']=data['SalaryHikelastYear'].fillna(median)"
   ]
  },
  {
   "cell_type": "code",
   "execution_count": 152,
   "id": "5f09ec5b",
   "metadata": {},
   "outputs": [
    {
     "data": {
      "text/plain": [
       "<Axes: xlabel='WorkExperience'>"
      ]
     },
     "execution_count": 152,
     "metadata": {},
     "output_type": "execute_result"
    },
    {
     "data": {
      "image/png": "[encoded data removed]",
      "text/plain": [
       "<Figure size 640x480 with 1 Axes>"
      ]
     },
     "metadata": {},
     "output_type": "display_data"
    }
   ],
   "source": [
    "sns.boxplot(x='WorkExperience',data=data)"
   ]
  },
  {
   "cell_type": "code",
   "execution_count": 153,
   "id": "78061c48",
   "metadata": {},
   "outputs": [
    {
     "name": "stdout",
     "output_type": "stream",
     "text": [
      "9.0\n"
     ]
    }
   ],
   "source": [
    "median=data.WorkExperience.median()\n",
    "print(median)"
   ]
  },
  {
   "cell_type": "code",
   "execution_count": 154,
   "id": "84e86e18",
   "metadata": {},
   "outputs": [],
   "source": [
    "data['WorkExperience']=data['WorkExperience'].fillna(median)"
   ]
  },
  {
   "cell_type": "code",
   "execution_count": 155,
   "id": "84379db3",
   "metadata": {},
   "outputs": [
    {
     "data": {
      "text/plain": [
       "<Axes: xlabel='LastPromotion'>"
      ]
     },
     "execution_count": 155,
     "metadata": {},
     "output_type": "execute_result"
    },
    {
     "data": {
      "image/png": "[encoded data removed]",
      "text/plain": [
       "<Figure size 640x480 with 1 Axes>"
      ]
     },
     "metadata": {},
     "output_type": "display_data"
    }
   ],
   "source": [
    "sns.boxplot(x='LastPromotion',data=data)"
   ]
  },
  {
   "cell_type": "code",
   "execution_count": 156,
   "id": "07e5aa00",
   "metadata": {},
   "outputs": [
    {
     "name": "stdout",
     "output_type": "stream",
     "text": [
      "1.0\n"
     ]
    }
   ],
   "source": [
    "median=data.LastPromotion.median()\n",
    "print(median)"
   ]
  },
  {
   "cell_type": "code",
   "execution_count": 157,
   "id": "c969fe05",
   "metadata": {},
   "outputs": [],
   "source": [
    "data['LastPromotion']=data['LastPromotion'].fillna(median)"
   ]
  },
  {
   "cell_type": "code",
   "execution_count": 158,
   "id": "ce4f4c3f",
   "metadata": {},
   "outputs": [
    {
     "data": {
      "text/plain": [
       "<Axes: xlabel='CurrentProfile'>"
      ]
     },
     "execution_count": 158,
     "metadata": {},
     "output_type": "execute_result"
    },
    {
     "data": {
      "image/png": "[encoded data removed]",
      "text/plain": [
       "<Figure size 640x480 with 1 Axes>"
      ]
     },
     "metadata": {},
     "output_type": "display_data"
    }
   ],
   "source": [
    "sns.boxplot(x='CurrentProfile',data=data)"
   ]
  },
  {
   "cell_type": "code",
   "execution_count": 159,
   "id": "5388f96b",
   "metadata": {},
   "outputs": [
    {
     "name": "stdout",
     "output_type": "stream",
     "text": [
      "3.0\n"
     ]
    }
   ],
   "source": [
    "median=data.CurrentProfile.median()\n",
    "print(median)"
   ]
  },
  {
   "cell_type": "code",
   "execution_count": 160,
   "id": "191fbdcc",
   "metadata": {},
   "outputs": [],
   "source": [
    "data['CurrentProfile']=data['CurrentProfile'].fillna(median)"
   ]
  },
  {
   "cell_type": "code",
   "execution_count": 161,
   "id": "0d529b22",
   "metadata": {},
   "outputs": [
    {
     "data": {
      "text/plain": [
       "<Axes: xlabel='MonthlyIncome'>"
      ]
     },
     "execution_count": 161,
     "metadata": {},
     "output_type": "execute_result"
    },
    {
     "data": {
      "image/png": "[encoded data removed]",
      "text/plain": [
       "<Figure size 640x480 with 1 Axes>"
      ]
     },
     "metadata": {},
     "output_type": "display_data"
    }
   ],
   "source": [
    "sns.boxplot(x='MonthlyIncome',data=data)"
   ]
  },
  {
   "cell_type": "code",
   "execution_count": 162,
   "id": "467ab3d1",
   "metadata": {},
   "outputs": [
    {
     "name": "stdout",
     "output_type": "stream",
     "text": [
      "20160.0\n"
     ]
    }
   ],
   "source": [
    "median=data.MonthlyIncome.median()\n",
    "print(median)"
   ]
  },
  {
   "cell_type": "code",
   "execution_count": 163,
   "id": "02d25030",
   "metadata": {},
   "outputs": [],
   "source": [
    "data['MonthlyIncome']=data['MonthlyIncome'].fillna(median)"
   ]
  },
  {
   "cell_type": "code",
   "execution_count": 164,
   "id": "c3dce9a0",
   "metadata": {},
   "outputs": [
    {
     "data": {
      "text/plain": [
       "Attrition             0\n",
       "Age                   0\n",
       "TravelProfile         0\n",
       "Department            0\n",
       "HomeToWork            0\n",
       "EducationField        0\n",
       "Gender                0\n",
       "HourlnWeek            0\n",
       "Involvement           0\n",
       "WorkLifeBalance       0\n",
       "Designation           0\n",
       "JobSatisfaction       0\n",
       "ESOPs                 0\n",
       "NumCompaniesWorked    0\n",
       "OverTime              0\n",
       "SalaryHikelastYear    0\n",
       "WorkExperience        0\n",
       "LastPromotion         0\n",
       "CurrentProfile        0\n",
       "MaritalStatus         0\n",
       "MonthlyIncome         0\n",
       "dtype: int64"
      ]
     },
     "execution_count": 164,
     "metadata": {},
     "output_type": "execute_result"
    }
   ],
   "source": [
    "data.isnull().sum()"
   ]
  },
  {
   "cell_type": "markdown",
   "id": "4640da5c",
   "metadata": {},
   "source": [
    "## Label Encoder"
   ]
  },
  {
   "cell_type": "code",
   "execution_count": 165,
   "id": "b4ba818f",
   "metadata": {},
   "outputs": [
    {
     "name": "stdout",
     "output_type": "stream",
     "text": [
      "Categorical columns: ['TravelProfile', 'Department', 'EducationField', 'Gender', 'Designation', 'MaritalStatus']\n"
     ]
    }
   ],
   "source": [
    "cat_cols = data.select_dtypes(include=['object']).columns.tolist()\n",
    "print(\"Categorical columns:\", cat_cols)"
   ]
  },
  {
   "cell_type": "code",
   "execution_count": 166,
   "id": "f98c2032",
   "metadata": {},
   "outputs": [
    {
     "name": "stdout",
     "output_type": "stream",
     "text": [
      "Numerical columns: ['Attrition', 'Age', 'HomeToWork', 'HourlnWeek', 'Involvement', 'WorkLifeBalance', 'JobSatisfaction', 'ESOPs', 'NumCompaniesWorked', 'OverTime', 'SalaryHikelastYear', 'WorkExperience', 'LastPromotion', 'CurrentProfile', 'MonthlyIncome']\n"
     ]
    }
   ],
   "source": [
    "num_cols = data.select_dtypes(include=['int', 'float']).columns.tolist()\n",
    "print(\"Numerical columns:\", num_cols)"
   ]
  },
  {
   "cell_type": "code",
   "execution_count": 167,
   "id": "0f3625e5",
   "metadata": {},
   "outputs": [
    {
     "name": "stdout",
     "output_type": "stream",
     "text": [
      "Categorical columns: ['TravelProfile', 'Department', 'EducationField', 'Gender', 'Designation', 'MaritalStatus']\n",
      "Numerical columns: ['Attrition', 'Age', 'HomeToWork', 'HourlnWeek', 'Involvement', 'WorkLifeBalance', 'JobSatisfaction', 'ESOPs', 'NumCompaniesWorked', 'OverTime', 'SalaryHikelastYear', 'WorkExperience', 'LastPromotion', 'CurrentProfile', 'MonthlyIncome']\n"
     ]
    }
   ],
   "source": [
    "from sklearn.preprocessing import LabelEncoder\n",
    "\n",
    "cat_cols = data.select_dtypes(include=['object']).columns.tolist()\n",
    "num_cols = data.select_dtypes(include=['int', 'float']).columns.tolist()\n",
    "\n",
    "print(\"Categorical columns:\", cat_cols)\n",
    "print(\"Numerical columns:\", num_cols)\n",
    "\n",
    "for col in cat_cols:\n",
    "    le = LabelEncoder()\n",
    "    data[col] = le.fit_transform(data[col])\n"
   ]
  },
  {
   "cell_type": "code",
   "execution_count": 168,
   "id": "50603e45",
   "metadata": {},
   "outputs": [
    {
     "data": {
      "text/plain": [
       "Attrition             float64\n",
       "Age                   float64\n",
       "TravelProfile           int32\n",
       "Department              int32\n",
       "HomeToWork            float64\n",
       "EducationField          int32\n",
       "Gender                  int32\n",
       "HourlnWeek            float64\n",
       "Involvement           float64\n",
       "WorkLifeBalance       float64\n",
       "Designation             int32\n",
       "JobSatisfaction       float64\n",
       "ESOPs                 float64\n",
       "NumCompaniesWorked    float64\n",
       "OverTime              float64\n",
       "SalaryHikelastYear    float64\n",
       "WorkExperience        float64\n",
       "LastPromotion         float64\n",
       "CurrentProfile        float64\n",
       "MaritalStatus           int32\n",
       "MonthlyIncome         float64\n",
       "dtype: object"
      ]
     },
     "execution_count": 168,
     "metadata": {},
     "output_type": "execute_result"
    }
   ],
   "source": [
    "data.dtypes"
   ]
  },
  {
   "cell_type": "markdown",
   "id": "c93d21ce",
   "metadata": {},
   "source": [
    "## Check the datatype of the target variable"
   ]
  },
  {
   "cell_type": "code",
   "execution_count": 169,
   "id": "dbff4e7b",
   "metadata": {},
   "outputs": [
    {
     "data": {
      "text/plain": [
       "dtype('float64')"
      ]
     },
     "execution_count": 169,
     "metadata": {},
     "output_type": "execute_result"
    }
   ],
   "source": [
    "data['Attrition'].dtype"
   ]
  },
  {
   "cell_type": "code",
   "execution_count": 170,
   "id": "9fa0b876",
   "metadata": {},
   "outputs": [],
   "source": [
    "i='Attrition'"
   ]
  },
  {
   "cell_type": "code",
   "execution_count": 171,
   "id": "57b280fb",
   "metadata": {},
   "outputs": [],
   "source": [
    "if i!= 'object':\n",
    "    data['Attrition'] = data['Attrition'].astype(str)"
   ]
  },
  {
   "cell_type": "code",
   "execution_count": 172,
   "id": "572d1ff7",
   "metadata": {},
   "outputs": [
    {
     "data": {
      "text/plain": [
       "dtype('O')"
      ]
     },
     "execution_count": 172,
     "metadata": {},
     "output_type": "execute_result"
    }
   ],
   "source": [
    "data['Attrition'].dtype"
   ]
  },
  {
   "cell_type": "markdown",
   "id": "edbc43f3",
   "metadata": {},
   "source": [
    "## Random Forest Classifier"
   ]
  },
  {
   "cell_type": "code",
   "execution_count": 173,
   "id": "01ff9fa2",
   "metadata": {},
   "outputs": [],
   "source": [
    "from sklearn.model_selection import train_test_split\n",
    "from sklearn.ensemble import RandomForestClassifier\n",
    "from sklearn.metrics import accuracy_score, classification_report"
   ]
  },
  {
   "cell_type": "code",
   "execution_count": 174,
   "id": "28a7e208",
   "metadata": {},
   "outputs": [
    {
     "name": "stdout",
     "output_type": "stream",
     "text": [
      "            Age  TravelProfile  Department  HomeToWork  EducationField  \\\n",
      "0     35.000000              1           0         5.0               0   \n",
      "1     32.000000              2           2         5.0               5   \n",
      "2     31.000000              1           0         5.0               5   \n",
      "3     34.000000              2           2        10.0               5   \n",
      "4     37.000000              0           0        27.0               5   \n",
      "...         ...            ...         ...         ...             ...   \n",
      "7805  37.108553              1           0         9.0               5   \n",
      "7806  37.108553              1           0         9.0               5   \n",
      "7807  37.108553              1           0         9.0               5   \n",
      "7808  37.108553              1           0         9.0               5   \n",
      "7809  37.108553              1           0         9.0               5   \n",
      "\n",
      "      Gender  HourlnWeek  Involvement  WorkLifeBalance  Designation  \\\n",
      "0          2        69.0          1.0         1.000000            1   \n",
      "1          1        62.0          4.0         3.000000            1   \n",
      "2          0        45.0          5.0         3.000000            2   \n",
      "3          1        32.0          3.0         2.000000            2   \n",
      "4          1        49.0          3.0         4.000000            2   \n",
      "...      ...         ...          ...              ...          ...   \n",
      "7805       2        59.0          3.0         3.012741            5   \n",
      "7806       2        59.0          3.0         3.012741            5   \n",
      "7807       2        59.0          3.0         3.012741            5   \n",
      "7808       2        59.0          3.0         3.012741            5   \n",
      "7809       2        59.0          3.0         3.012741            5   \n",
      "\n",
      "      JobSatisfaction     ESOPs  NumCompaniesWorked  OverTime  \\\n",
      "0            1.000000  1.000000                 1.0  1.000000   \n",
      "1            2.000000  0.000000                 8.0  0.000000   \n",
      "2            2.000000  1.000000                 3.0  0.000000   \n",
      "3            4.000000  1.000000                 1.0  0.000000   \n",
      "4            4.000000  1.000000                 8.0  0.000000   \n",
      "...               ...       ...                 ...       ...   \n",
      "7805         3.144402  0.490541                 2.0  0.313514   \n",
      "7806         3.144402  0.490541                 2.0  0.313514   \n",
      "7807         3.144402  0.490541                 2.0  0.313514   \n",
      "7808         3.144402  0.490541                 2.0  0.313514   \n",
      "7809         3.144402  0.490541                 2.0  0.313514   \n",
      "\n",
      "      SalaryHikelastYear  WorkExperience  LastPromotion  CurrentProfile  \\\n",
      "0                   20.0             7.0            2.0             3.0   \n",
      "1                   20.0             4.0            1.0             3.0   \n",
      "2                   26.0            12.0            1.0             3.0   \n",
      "3                   23.0             5.0            1.0             3.0   \n",
      "4                   21.0            12.0            1.0             9.0   \n",
      "...                  ...             ...            ...             ...   \n",
      "7805                20.0             9.0            1.0             3.0   \n",
      "7806                20.0             9.0            1.0             3.0   \n",
      "7807                20.0             9.0            1.0             3.0   \n",
      "7808                20.0             9.0            1.0             3.0   \n",
      "7809                20.0             9.0            1.0             3.0   \n",
      "\n",
      "      MaritalStatus  MonthlyIncome  \n",
      "0                 1        18932.0  \n",
      "1                 3        18785.0  \n",
      "2                 3        22091.0  \n",
      "3                 0        20302.0  \n",
      "4                 0        21674.0  \n",
      "...             ...            ...  \n",
      "7805              4        20160.0  \n",
      "7806              4        20160.0  \n",
      "7807              4        20160.0  \n",
      "7808              4        20160.0  \n",
      "7809              4        20160.0  \n",
      "\n",
      "[7810 rows x 20 columns]\n"
     ]
    }
   ],
   "source": [
    "x= data.drop('Attrition', axis=1)\n",
    "print(x)"
   ]
  },
  {
   "cell_type": "code",
   "execution_count": 175,
   "id": "06747d68",
   "metadata": {},
   "outputs": [
    {
     "name": "stdout",
     "output_type": "stream",
     "text": [
      "0                       0.0\n",
      "1                       1.0\n",
      "2                       0.0\n",
      "3                       0.0\n",
      "4                       0.0\n",
      "               ...         \n",
      "7805    0.27895752895752896\n",
      "7806    0.27895752895752896\n",
      "7807    0.27895752895752896\n",
      "7808    0.27895752895752896\n",
      "7809    0.27895752895752896\n",
      "Name: Attrition, Length: 7810, dtype: object\n"
     ]
    }
   ],
   "source": [
    "y = data['Attrition']\n",
    "print(y)"
   ]
  },
  {
   "cell_type": "code",
   "execution_count": 176,
   "id": "ea9a89fb",
   "metadata": {},
   "outputs": [],
   "source": [
    "x_train, x_test, y_train, y_test = train_test_split(x, y, test_size=0.2, random_state=42)"
   ]
  },
  {
   "cell_type": "code",
   "execution_count": 177,
   "id": "54c71f2b",
   "metadata": {},
   "outputs": [],
   "source": [
    "rf_classifier = RandomForestClassifier(n_estimators=100, random_state=101)"
   ]
  },
  {
   "cell_type": "code",
   "execution_count": 178,
   "id": "58dbfcc8",
   "metadata": {},
   "outputs": [
    {
     "data": {
      "text/html": [
       "<style>#sk-container-id-3 {color: black;background-color: white;}#sk-container-id-3 pre{padding: 0;}#sk-container-id-3 div.sk-toggleable {background-color: white;}#sk-container-id-3 label.sk-toggleable__label {cursor: pointer;display: block;width: 100%;margin-bottom: 0;padding: 0.3em;box-sizing: border-box;text-align: center;}#sk-container-id-3 label.sk-toggleable__label-arrow:before {content: \"▸\";float: left;margin-right: 0.25em;color: #696969;}#sk-container-id-3 label.sk-toggleable__label-arrow:hover:before {color: black;}#sk-container-id-3 div.sk-estimator:hover label.sk-toggleable__label-arrow:before {color: black;}#sk-container-id-3 div.sk-toggleable__content {max-height: 0;max-width: 0;overflow: hidden;text-align: left;background-color: #f0f8ff;}#sk-container-id-3 div.sk-toggleable__content pre {margin: 0.2em;color: black;border-radius: 0.25em;background-color: #f0f8ff;}#sk-container-id-3 input.sk-toggleable__control:checked~div.sk-toggleable__content {max-height: 200px;max-width: 100%;overflow: auto;}#sk-container-id-3 input.sk-toggleable__control:checked~label.sk-toggleable__label-arrow:before {content: \"▾\";}#sk-container-id-3 div.sk-estimator input.sk-toggleable__control:checked~label.sk-toggleable__label {background-color: #d4ebff;}#sk-container-id-3 div.sk-label input.sk-toggleable__control:checked~label.sk-toggleable__label {background-color: #d4ebff;}#sk-container-id-3 input.sk-hidden--visually {border: 0;clip: rect(1px 1px 1px 1px);clip: rect(1px, 1px, 1px, 1px);height: 1px;margin: -1px;overflow: hidden;padding: 0;position: absolute;width: 1px;}#sk-container-id-3 div.sk-estimator {font-family: monospace;background-color: #f0f8ff;border: 1px dotted black;border-radius: 0.25em;box-sizing: border-box;margin-bottom: 0.5em;}#sk-container-id-3 div.sk-estimator:hover {background-color: #d4ebff;}#sk-container-id-3 div.sk-parallel-item::after {content: \"\";width: 100%;border-bottom: 1px solid gray;flex-grow: 1;}#sk-container-id-3 div.sk-label:hover label.sk-toggleable__label {background-color: #d4ebff;}#sk-container-id-3 div.sk-serial::before {content: \"\";position: absolute;border-left: 1px solid gray;box-sizing: border-box;top: 0;bottom: 0;left: 50%;z-index: 0;}#sk-container-id-3 div.sk-serial {display: flex;flex-direction: column;align-items: center;background-color: white;padding-right: 0.2em;padding-left: 0.2em;position: relative;}#sk-container-id-3 div.sk-item {position: relative;z-index: 1;}#sk-container-id-3 div.sk-parallel {display: flex;align-items: stretch;justify-content: center;background-color: white;position: relative;}#sk-container-id-3 div.sk-item::before, #sk-container-id-3 div.sk-parallel-item::before {content: \"\";position: absolute;border-left: 1px solid gray;box-sizing: border-box;top: 0;bottom: 0;left: 50%;z-index: -1;}#sk-container-id-3 div.sk-parallel-item {display: flex;flex-direction: column;z-index: 1;position: relative;background-color: white;}#sk-container-id-3 div.sk-parallel-item:first-child::after {align-self: flex-end;width: 50%;}#sk-container-id-3 div.sk-parallel-item:last-child::after {align-self: flex-start;width: 50%;}#sk-container-id-3 div.sk-parallel-item:only-child::after {width: 0;}#sk-container-id-3 div.sk-dashed-wrapped {border: 1px dashed gray;margin: 0 0.4em 0.5em 0.4em;box-sizing: border-box;padding-bottom: 0.4em;background-color: white;}#sk-container-id-3 div.sk-label label {font-family: monospace;font-weight: bold;display: inline-block;line-height: 1.2em;}#sk-container-id-3 div.sk-label-container {text-align: center;}#sk-container-id-3 div.sk-container {/* jupyter's `normalize.less` sets `[hidden] { display: none; }` but bootstrap.min.css set `[hidden] { display: none !important; }` so we also need the `!important` here to be able to override the default hidden behavior on the sphinx rendered scikit-learn.org. See: https://github.com/scikit-learn/scikit-learn/issues/21755 */display: inline-block !important;position: relative;}#sk-container-id-3 div.sk-text-repr-fallback {display: none;}</style><div id=\"sk-container-id-3\" class=\"sk-top-container\"><div class=\"sk-text-repr-fallback\"><pre>RandomForestClassifier(random_state=101)</pre><b>In a Jupyter environment, please rerun this cell to show the HTML representation or trust the notebook. <br />On GitHub, the HTML representation is unable to render, please try loading this page with nbviewer.org.</b></div><div class=\"sk-container\" hidden><div class=\"sk-item\"><div class=\"sk-estimator sk-toggleable\"><input class=\"sk-toggleable__control sk-hidden--visually\" id=\"sk-estimator-id-3\" type=\"checkbox\" checked><label for=\"sk-estimator-id-3\" class=\"sk-toggleable__label sk-toggleable__label-arrow\">RandomForestClassifier</label><div class=\"sk-toggleable__content\"><pre>RandomForestClassifier(random_state=101)</pre></div></div></div></div></div>"
      ],
      "text/plain": [
       "RandomForestClassifier(random_state=101)"
      ]
     },
     "execution_count": 178,
     "metadata": {},
     "output_type": "execute_result"
    }
   ],
   "source": [
    "rf_classifier.fit(x_train, y_train)"
   ]
  },
  {
   "cell_type": "code",
   "execution_count": 179,
   "id": "f04d2e47",
   "metadata": {},
   "outputs": [],
   "source": [
    "y_pred = rf_classifier.predict(x_test)"
   ]
  },
  {
   "cell_type": "code",
   "execution_count": 180,
   "id": "1c5e0b2d",
   "metadata": {},
   "outputs": [
    {
     "name": "stdout",
     "output_type": "stream",
     "text": [
      "Accuracy: 0.9865556978233034\n"
     ]
    }
   ],
   "source": [
    "accuracy = accuracy_score(y_test, y_pred)\n",
    "print(\"Accuracy:\", accuracy)"
   ]
  },
  {
   "cell_type": "code",
   "execution_count": 181,
   "id": "ecd31482",
   "metadata": {},
   "outputs": [
    {
     "name": "stdout",
     "output_type": "stream",
     "text": [
      "                     precision    recall  f1-score   support\n",
      "\n",
      "                0.0       0.98      0.99      0.99       730\n",
      "0.27895752895752896       1.00      1.00      1.00       528\n",
      "                1.0       0.99      0.94      0.96       304\n",
      "\n",
      "           accuracy                           0.99      1562\n",
      "          macro avg       0.99      0.98      0.98      1562\n",
      "       weighted avg       0.99      0.99      0.99      1562\n",
      "\n"
     ]
    }
   ],
   "source": [
    "print(classification_report(y_test, y_pred))"
   ]
  },
  {
   "cell_type": "markdown",
   "id": "6ca15c1a",
   "metadata": {},
   "source": [
    "## Logistic Regression"
   ]
  },
  {
   "cell_type": "code",
   "execution_count": 182,
   "id": "40f23941",
   "metadata": {},
   "outputs": [],
   "source": [
    "from sklearn.linear_model import LogisticRegression"
   ]
  },
  {
   "cell_type": "code",
   "execution_count": 183,
   "id": "7c3de2a0",
   "metadata": {},
   "outputs": [],
   "source": [
    "lr=LogisticRegression(random_state=101)"
   ]
  },
  {
   "cell_type": "code",
   "execution_count": 184,
   "id": "85987a97",
   "metadata": {},
   "outputs": [
    {
     "data": {
      "text/html": [
       "<style>#sk-container-id-4 {color: black;background-color: white;}#sk-container-id-4 pre{padding: 0;}#sk-container-id-4 div.sk-toggleable {background-color: white;}#sk-container-id-4 label.sk-toggleable__label {cursor: pointer;display: block;width: 100%;margin-bottom: 0;padding: 0.3em;box-sizing: border-box;text-align: center;}#sk-container-id-4 label.sk-toggleable__label-arrow:before {content: \"▸\";float: left;margin-right: 0.25em;color: #696969;}#sk-container-id-4 label.sk-toggleable__label-arrow:hover:before {color: black;}#sk-container-id-4 div.sk-estimator:hover label.sk-toggleable__label-arrow:before {color: black;}#sk-container-id-4 div.sk-toggleable__content {max-height: 0;max-width: 0;overflow: hidden;text-align: left;background-color: #f0f8ff;}#sk-container-id-4 div.sk-toggleable__content pre {margin: 0.2em;color: black;border-radius: 0.25em;background-color: #f0f8ff;}#sk-container-id-4 input.sk-toggleable__control:checked~div.sk-toggleable__content {max-height: 200px;max-width: 100%;overflow: auto;}#sk-container-id-4 input.sk-toggleable__control:checked~label.sk-toggleable__label-arrow:before {content: \"▾\";}#sk-container-id-4 div.sk-estimator input.sk-toggleable__control:checked~label.sk-toggleable__label {background-color: #d4ebff;}#sk-container-id-4 div.sk-label input.sk-toggleable__control:checked~label.sk-toggleable__label {background-color: #d4ebff;}#sk-container-id-4 input.sk-hidden--visually {border: 0;clip: rect(1px 1px 1px 1px);clip: rect(1px, 1px, 1px, 1px);height: 1px;margin: -1px;overflow: hidden;padding: 0;position: absolute;width: 1px;}#sk-container-id-4 div.sk-estimator {font-family: monospace;background-color: #f0f8ff;border: 1px dotted black;border-radius: 0.25em;box-sizing: border-box;margin-bottom: 0.5em;}#sk-container-id-4 div.sk-estimator:hover {background-color: #d4ebff;}#sk-container-id-4 div.sk-parallel-item::after {content: \"\";width: 100%;border-bottom: 1px solid gray;flex-grow: 1;}#sk-container-id-4 div.sk-label:hover label.sk-toggleable__label {background-color: #d4ebff;}#sk-container-id-4 div.sk-serial::before {content: \"\";position: absolute;border-left: 1px solid gray;box-sizing: border-box;top: 0;bottom: 0;left: 50%;z-index: 0;}#sk-container-id-4 div.sk-serial {display: flex;flex-direction: column;align-items: center;background-color: white;padding-right: 0.2em;padding-left: 0.2em;position: relative;}#sk-container-id-4 div.sk-item {position: relative;z-index: 1;}#sk-container-id-4 div.sk-parallel {display: flex;align-items: stretch;justify-content: center;background-color: white;position: relative;}#sk-container-id-4 div.sk-item::before, #sk-container-id-4 div.sk-parallel-item::before {content: \"\";position: absolute;border-left: 1px solid gray;box-sizing: border-box;top: 0;bottom: 0;left: 50%;z-index: -1;}#sk-container-id-4 div.sk-parallel-item {display: flex;flex-direction: column;z-index: 1;position: relative;background-color: white;}#sk-container-id-4 div.sk-parallel-item:first-child::after {align-self: flex-end;width: 50%;}#sk-container-id-4 div.sk-parallel-item:last-child::after {align-self: flex-start;width: 50%;}#sk-container-id-4 div.sk-parallel-item:only-child::after {width: 0;}#sk-container-id-4 div.sk-dashed-wrapped {border: 1px dashed gray;margin: 0 0.4em 0.5em 0.4em;box-sizing: border-box;padding-bottom: 0.4em;background-color: white;}#sk-container-id-4 div.sk-label label {font-family: monospace;font-weight: bold;display: inline-block;line-height: 1.2em;}#sk-container-id-4 div.sk-label-container {text-align: center;}#sk-container-id-4 div.sk-container {/* jupyter's `normalize.less` sets `[hidden] { display: none; }` but bootstrap.min.css set `[hidden] { display: none !important; }` so we also need the `!important` here to be able to override the default hidden behavior on the sphinx rendered scikit-learn.org. See: https://github.com/scikit-learn/scikit-learn/issues/21755 */display: inline-block !important;position: relative;}#sk-container-id-4 div.sk-text-repr-fallback {display: none;}</style><div id=\"sk-container-id-4\" class=\"sk-top-container\"><div class=\"sk-text-repr-fallback\"><pre>LogisticRegression(random_state=101)</pre><b>In a Jupyter environment, please rerun this cell to show the HTML representation or trust the notebook. <br />On GitHub, the HTML representation is unable to render, please try loading this page with nbviewer.org.</b></div><div class=\"sk-container\" hidden><div class=\"sk-item\"><div class=\"sk-estimator sk-toggleable\"><input class=\"sk-toggleable__control sk-hidden--visually\" id=\"sk-estimator-id-4\" type=\"checkbox\" checked><label for=\"sk-estimator-id-4\" class=\"sk-toggleable__label sk-toggleable__label-arrow\">LogisticRegression</label><div class=\"sk-toggleable__content\"><pre>LogisticRegression(random_state=101)</pre></div></div></div></div></div>"
      ],
      "text/plain": [
       "LogisticRegression(random_state=101)"
      ]
     },
     "execution_count": 184,
     "metadata": {},
     "output_type": "execute_result"
    }
   ],
   "source": [
    "lr.fit(x_train, y_train)"
   ]
  },
  {
   "cell_type": "code",
   "execution_count": 185,
   "id": "3fd3e51d",
   "metadata": {},
   "outputs": [],
   "source": [
    "y_pred = lr.predict(x_test)"
   ]
  },
  {
   "cell_type": "code",
   "execution_count": 186,
   "id": "9b4895a2",
   "metadata": {},
   "outputs": [
    {
     "name": "stdout",
     "output_type": "stream",
     "text": [
      "Accuracy: 0.7964148527528809\n"
     ]
    }
   ],
   "source": [
    "accuracy = accuracy_score(y_test, y_pred)\n",
    "print(\"Accuracy:\", accuracy)"
   ]
  },
  {
   "cell_type": "code",
   "execution_count": 187,
   "id": "ce91f371",
   "metadata": {},
   "outputs": [
    {
     "name": "stdout",
     "output_type": "stream",
     "text": [
      "                     precision    recall  f1-score   support\n",
      "\n",
      "                0.0       0.75      0.86      0.80       730\n",
      "0.27895752895752896       0.94      1.00      0.97       528\n",
      "                1.0       0.52      0.28      0.36       304\n",
      "\n",
      "           accuracy                           0.80      1562\n",
      "          macro avg       0.74      0.71      0.71      1562\n",
      "       weighted avg       0.77      0.80      0.77      1562\n",
      "\n"
     ]
    }
   ],
   "source": [
    "print(classification_report(y_test, y_pred))"
   ]
  },
  {
   "cell_type": "code",
   "execution_count": null,
   "id": "e2d6216a",
   "metadata": {},
   "outputs": [],
   "source": []
  }
 ],
 "metadata": {
  "kernelspec": {
   "display_name": "Python 3 (ipykernel)",
   "language": "python",
   "name": "python3"
  },
  "language_info": {
   "codemirror_mode": {
    "name": "ipython",
    "version": 3
   },
   "file_extension": ".py",
   "mimetype": "text/x-python",
   "name": "python",
   "nbconvert_exporter": "python",
   "pygments_lexer": "ipython3",
   "version": "3.10.9"
  }
 },
 "nbformat": 4,
 "nbformat_minor": 5
}
